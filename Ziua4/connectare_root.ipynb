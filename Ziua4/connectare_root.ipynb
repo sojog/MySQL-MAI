{
 "cells": [
  {
   "cell_type": "code",
   "execution_count": 16,
   "id": "b59422b4",
   "metadata": {},
   "outputs": [],
   "source": [
    "import mysql.connector"
   ]
  },
  {
   "cell_type": "code",
   "execution_count": 17,
   "id": "9006c921",
   "metadata": {},
   "outputs": [],
   "source": [
    "cnx_root = mysql.connector.connect(\n",
    "    host=\"127.0.0.1\",\n",
    "    port=3306,\n",
    "    user=\"root\",\n",
    "    password=\"root1234\")\n",
    "\n",
    "cnx_sakila = mysql.connector.connect(\n",
    "    host=\"127.0.0.1\",\n",
    "    port=3306,\n",
    "    user=\"sakila_viewer\",\n",
    "    password=\"parola\")"
   ]
  },
  {
   "cell_type": "code",
   "execution_count": 18,
   "id": "8d170aac",
   "metadata": {},
   "outputs": [],
   "source": [
    "cur_root = cnx_root.cursor()\n",
    "cur_sakila = cnx_sakila.cursor()"
   ]
  },
  {
   "cell_type": "code",
   "execution_count": 19,
   "id": "70921d05",
   "metadata": {},
   "outputs": [],
   "source": [
    "cur_root.execute('USE db_tran')\n",
    "cur_sakila.execute('USE db_tran')"
   ]
  },
  {
   "cell_type": "code",
   "execution_count": 20,
   "id": "5c7372fd",
   "metadata": {},
   "outputs": [],
   "source": [
    "cnx_root.autocommit = False\n",
    "cnx_sakila.autocommit = False"
   ]
  },
  {
   "cell_type": "code",
   "execution_count": 14,
   "id": "e8afa059",
   "metadata": {},
   "outputs": [],
   "source": [
    "try:\n",
    "    cur_root.execute('INSERT INTO tb_tran SET value = \"rosu_root\";')\n",
    "    cur_sakila.execute('INSERT INTO tb_tran SET value = \"rosu_sakila\";')\n",
    "    cnx_root.commit()\n",
    "    cnx_sakila.commit()\n",
    "except:\n",
    "    print(\"Avem o eroare, cele 2 nu ar trebui sa meaga\")\n",
    "    cnx_root.rollback()\n",
    "    cnx_sakila.rollback()\n"
   ]
  },
  {
   "cell_type": "code",
   "execution_count": 21,
   "id": "37d68a64",
   "metadata": {},
   "outputs": [
    {
     "name": "stdout",
     "output_type": "stream",
     "text": [
      "Avem o eroare, cele 2 nu ar trebui sa meaga\n"
     ]
    }
   ],
   "source": [
    "try:\n",
    "    cur_root.execute('INSERT INTO tb_tran SET value = \"not_eroare_root\";')\n",
    "    cur_sakila.execute('INSERT INTO tb_tran SET value = \"not_eroare_sakila\";')\n",
    "    cnx_root.commit()\n",
    "    cnx_sakila.commit()\n",
    "except:\n",
    "    print(\"Avem o eroare, cele 2 nu ar trebui sa meaga\")\n",
    "    cnx_root.rollback()\n",
    "    cnx_sakila.rollback()"
   ]
  },
  {
   "cell_type": "code",
   "execution_count": null,
   "id": "38c43e90",
   "metadata": {},
   "outputs": [],
   "source": []
  },
  {
   "cell_type": "code",
   "execution_count": null,
   "id": "5eb16b3e",
   "metadata": {},
   "outputs": [],
   "source": [
    "cur.execute('INSERT INTO profesor SET nume=\"Guido\",    prenume=\"Van Rossum\", data_nasterii=\"1956-01-31\", adresa=1 ')"
   ]
  },
  {
   "cell_type": "code",
   "execution_count": null,
   "id": "f00b9967",
   "metadata": {},
   "outputs": [],
   "source": [
    "cur.execute('SELECT * FROM profesor')\n",
    "for prof in cur:\n",
    "    print(prof)"
   ]
  },
  {
   "cell_type": "code",
   "execution_count": null,
   "id": "3fe10cd6",
   "metadata": {},
   "outputs": [],
   "source": [
    "cnx.commit()"
   ]
  },
  {
   "cell_type": "code",
   "execution_count": 11,
   "id": "b9074987",
   "metadata": {},
   "outputs": [],
   "source": [
    "cur.close()\n",
    "cnx.close()"
   ]
  }
 ],
 "metadata": {
  "kernelspec": {
   "display_name": "Python 3",
   "language": "python",
   "name": "python3"
  },
  "language_info": {
   "codemirror_mode": {
    "name": "ipython",
    "version": 3
   },
   "file_extension": ".py",
   "mimetype": "text/x-python",
   "name": "python",
   "nbconvert_exporter": "python",
   "pygments_lexer": "ipython3",
   "version": "3.13.3"
  }
 },
 "nbformat": 4,
 "nbformat_minor": 5
}
